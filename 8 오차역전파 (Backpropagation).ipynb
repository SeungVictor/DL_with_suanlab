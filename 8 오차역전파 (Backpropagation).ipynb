{
 "cells": [
  {
   "cell_type": "markdown",
   "metadata": {
    "id": "S9Db_VsP_m1S"
   },
   "source": [
    "## 오차역전파 (Backpropagation)\n"
   ]
  },
  {
   "cell_type": "markdown",
   "metadata": {
    "id": "8Vdi2PAG_3lW"
   },
   "source": [
    "### 오차역전파 알고리즘\n",
    "- 학습 데이터로 정방향(forward) 연산을 통해 손실함수 값(loss)을 구함\n",
    "\n",
    "- 각 layer별로 역전파학습을 위해 중간값을 저장\n",
    "\n",
    "- 손실함수를 학습 파라미터(가중치, 편향)로 미분하여  \n",
    "  마지막 layer로부터 앞으로 하나씩 연쇄법칙을 이용하여 미분\n",
    "  각 layer를 통과할 때마다 저장된 값을 이용\n",
    "\n",
    "- 오류(error)를 전달하면서 학습 파라미터를 조금씩 갱신\n"
   ]
  },
  {
   "cell_type": "markdown",
   "metadata": {
    "id": "-o545ezeUuSB"
   },
   "source": [
    "### 오차역전파 학습의 특징\n",
    "- 손실함수를 통한 평가를 한 번만 하고, 연쇄법칙을 이용한 미분을 활용하기 때문에  \n",
    "  학습 소요시간이 매우 단축!\n",
    "\n",
    "- 미분을 위한 중간값을 모두 저장하기 때문에 메모리를 많이 사용\n"
   ]
  },
  {
   "cell_type": "markdown",
   "metadata": {
    "id": "CFoTt-ds_w8C"
   },
   "source": [
    "### 신경망 학습에 있어서 미분가능의 중요성\n",
    "- 경사하강법(Gradient Descent)에서 손실 함수(cost function)의 최소값,  \n",
    "  즉, 최적값을 찾기 위한 방법으로 미분을 활용\n",
    "\n",
    "- 미분을 통해 손실 함수의 학습 매개변수(trainable parameter)를 갱신하여  \n",
    "  모델의 가중치의 최적값을 찾는 과정\n",
    "\n",
    "![](https://i.pinimg.com/originals/5d/13/20/5d1320c7b672710834e63b95a7c1037b.png)\n",
    "\n",
    "<sub>출처: https://www.pinterest.co.kr/pin/424816177350692379/</sub>"
   ]
  },
  {
   "cell_type": "markdown",
   "metadata": {
    "id": "ilYRMqLeQf6Z"
   },
   "source": [
    "### 합성함수의 미분 (연쇄법칙, chain rule)\n",
    "\n",
    "## $\\qquad \\frac{d}{dx} [f(g(x))] = f^\\prime(g(x))g^\\prime(x)$  \n",
    " \n",
    "\n",
    "- 여러 개 연속으로 사용가능  \n",
    "  ## $ \\quad \\frac{\\partial f}{\\partial x} = \\frac{\\partial f}{\\partial u} \\times \\frac{\\partial u}{\\partial m} \\times \\frac{\\partial m}{\\partial n} \\times \\ ... \\ \\frac{\\partial l}{\\partial k} \\times \\frac{\\partial k}{\\partial g} \\times \\frac{\\partial g}{\\partial x} \n",
    "  $\n",
    "- 각각에 대해 편미분 적용가능\n",
    "\n",
    "![](https://cdn-media-1.freecodecamp.org/images/1*_KMMFvRP5X9kC59brI0ykw.png)\n",
    "<sub>출처: https://www.freecodecamp.org/news/demystifying-gradient-descent-and-backpropagation-via-logistic-regression-based-image-classification-9b5526c2ed46/</sub>\n",
    "\n",
    "- **오차역전파의 직관적 이해**\n",
    "  - 학습을 진행하면서, 즉 손실함수의 최소값(minimum)을 찾아가는 과정에서 가중치 또는 편향의 변화에 따라 얼마나 영향을 받는지 알 수 있음\n",
    "\n"
   ]
  },
  {
   "cell_type": "markdown",
   "metadata": {
    "id": "6NLF8CXiQkuL"
   },
   "source": [
    "#### 합성함수 미분(chain rule) 예제\n",
    "\n",
    "![](https://miro.medium.com/max/1000/1*azqHvbrNsZ8AIZ7H75tbIQ.jpeg)\n",
    "\n",
    "<sub>출처: https://medium.com/spidernitt/breaking-down-neural-networks-an-intuitive-approach-to-backpropagation-3b2ff958794c</sub>\n",
    "\n",
    "  #### $\\quad a=-1, \\ b=3, \\ c=4$,\n",
    "  #### $\\quad x = a + b, \\ y = b + c, \\ f = x * y \\ 일 때$    \n",
    "\n",
    "\n",
    "\n",
    "  ### $\\quad \\begin{matrix}\\frac{\\partial f}{\\partial x} &=& y\\ + \\ x \\ \\frac{\\partial y}{\\partial x} \\\\\n",
    "  &=& (b \\ + \\ c) \\ + \\ (a \\ +\\ b)\\ \\times \\ 0 \\\\\n",
    "  &=& 7 \\end{matrix}$\n",
    "\n",
    "  ### $\\quad \\begin{matrix}\\frac{\\partial f}{\\partial y} &=& x\\ + \\ \\frac{\\partial x}{\\partial y} \\ y \\\\\n",
    "  &=& (a \\ + \\ b) \\ + \\ 0 \\times (b \\ +\\ c) \\\\\n",
    "  &=& 2 \\end{matrix}$\n",
    "\n",
    "   <br>\n",
    "\n",
    "  ### $ \\quad \\begin{matrix} \\frac{\\partial x}{\\partial a} &=& 1 \\ + \\ a \\ \\frac{\\partial b}{\\partial a} \\\\\n",
    "  &=& 1 \\end{matrix} $\n",
    "  ### $ \\quad \\begin{matrix} \\frac{\\partial y}{\\partial c} &=& \\frac{\\partial b}{\\partial c}\\ + 1 \\\\\n",
    "   &=& 1 \\end{matrix} $\n",
    "  \n",
    "  <br>\n",
    "\n",
    "  ### $ \\quad \\begin{matrix} \\frac{\\partial f}{\\partial a} &=& \\frac{\\partial f}{\\partial x} \\times \\frac{\\partial x}{\\partial a} \\\\\n",
    "  &=& y \\times 1 \\\\ \n",
    "  &=& 7 \\times 1 = 7 \\\\\n",
    "  &=& 7  \\end{matrix} $\n",
    "    \n",
    "  ### $ \\quad \\begin{matrix} \\frac{\\partial f}{\\partial b}\\ \n",
    "  &=& \\frac{\\partial x}{\\partial b} \\ y \\ + \\ x \\ \\frac{\\partial y}{\\partial b}  \\\\\n",
    "  &=& 1 \\times 7 + 2 \\times 1  \\\\\n",
    "  &=& 9 \\end{matrix} $\n",
    "  \n",
    "\n",
    "  \n",
    "  "
   ]
  },
  {
   "cell_type": "markdown",
   "metadata": {
    "id": "2PgmdJN0Qtdw"
   },
   "source": [
    "### 덧셈, 곱셈 계층의 역전파\n",
    "- 위 예제를 통해 아래 사항을 알 수 있음\n",
    "\n",
    "  #### 1. $\\quad z = x + y$ 일 때,\n",
    "  ## $\\frac{\\partial z}{\\partial x} = 1, \\frac{\\partial z}{\\partial y} = 1 $\n",
    "\n",
    "  #### 2. $\\quad t = xy$ 일 때,\n",
    "  ## $\\frac{\\partial t}{\\partial x} = y, \\frac{\\partial t}{\\partial y} = x$\n"
   ]
  },
  {
   "cell_type": "code",
   "execution_count": 2,
   "metadata": {
    "id": "hShSxvW5WMqi"
   },
   "outputs": [],
   "source": [
    "class Mul():\n",
    "    \n",
    "    def __init__(self):\n",
    "        self.x = None\n",
    "        self.y = None\n",
    "        \n",
    "    def forward(self, x, y):\n",
    "        self.x = x\n",
    "        self.y = y\n",
    "        result = x * y\n",
    "        return result\n",
    "    \n",
    "    def backward(self, dresult):\n",
    "        dx = dresult * self.y\n",
    "        dy = dresult * self.x\n",
    "        return dx, dy"
   ]
  },
  {
   "cell_type": "code",
   "execution_count": 3,
   "metadata": {
    "id": "1bovOx6UQvLP"
   },
   "outputs": [],
   "source": [
    "class Add():\n",
    "    \n",
    "    def __init__(self):\n",
    "        self.x = None\n",
    "        self.y = None\n",
    "        \n",
    "    def forward(self, x, y):\n",
    "        self.x = x\n",
    "        self.y = y\n",
    "        result = x + y\n",
    "        return result\n",
    "    \n",
    "    def backward(self, dresult):\n",
    "        dx = dresult * 1\n",
    "        dy = dresult * 1\n",
    "        return dx, dy\n",
    "    \n",
    "    \n",
    "    "
   ]
  },
  {
   "cell_type": "code",
   "execution_count": 4,
   "metadata": {
    "id": "e3RawqlUQwp0"
   },
   "outputs": [],
   "source": [
    "a, b, c = -1, 3, 4\n",
    "x = Add()\n",
    "y = Add()\n",
    "f = Mul()\n",
    "\n"
   ]
  },
  {
   "cell_type": "code",
   "execution_count": 5,
   "metadata": {
    "id": "soyk-HWiSnwh"
   },
   "outputs": [
    {
     "name": "stdout",
     "output_type": "stream",
     "text": [
      "2\n",
      "7\n",
      "14\n"
     ]
    }
   ],
   "source": [
    "x_result = x.forward(a, b)\n",
    "y_result = y.forward(b, c)\n",
    "\n",
    "print(x_result)\n",
    "print(y_result)\n",
    "print(f.forward(x_result, y_result))"
   ]
  },
  {
   "cell_type": "code",
   "execution_count": 6,
   "metadata": {
    "id": "FhPPrFIqSpq1"
   },
   "outputs": [
    {
     "name": "stdout",
     "output_type": "stream",
     "text": [
      "7 2\n",
      "7\n",
      "9\n",
      "2\n"
     ]
    }
   ],
   "source": [
    "dresult = 1\n",
    "dx_mul, dy_mul = f.backward(dresult)\n",
    "\n",
    "da_add, db_add_1 = x.backward(dx_mul)\n",
    "db_add_2, dc_add = y.backward(dy_mul)\n",
    "\n",
    "print(dx_mul, dy_mul)\n",
    "print(da_add)\n",
    "print(db_add_1 + db_add_2)\n",
    "print(dc_add)\n"
   ]
  },
  {
   "cell_type": "markdown",
   "metadata": {
    "id": "dMfl0J1uWgiY"
   },
   "source": [
    "![](https://miro.medium.com/max/2000/1*U3mVDYuvnaLhJzIFw_d5qQ.png)\n",
    "<sub>출처: https://medium.com/spidernitt/breaking-down-neural-networks-an-intuitive-approach-to-backpropagation-3b2ff958794c</sub>"
   ]
  },
  {
   "cell_type": "markdown",
   "metadata": {
    "id": "byODNRUF5fbv"
   },
   "source": [
    "### 활성화 함수(Activation)에서의 역전파"
   ]
  },
  {
   "cell_type": "markdown",
   "metadata": {
    "id": "OkRurUgm5hqn"
   },
   "source": [
    "#### 시그모이드(Sigmoid) 함수\n",
    "\n",
    "![](https://media.geeksforgeeks.org/wp-content/uploads/20190911181329/Screenshot-2019-09-11-18.05.46.png)\n",
    "\n",
    "<sub>출처: https://www.geeksforgeeks.org/implement-sigmoid-function-using-numpy/</sub>\n",
    "\n",
    "- 수식 \n",
    "  # $\\quad y = \\frac{1}{1 + e^{-x}} $일 때,\n",
    "\n",
    "  ## $\\quad \\begin{matrix}y' &=& (\\frac{1}{1 + e^{-x}})' \\\\\n",
    "  &=& \\frac{-1}{(1 + e^{-x})^2}\\ \\times \\ (-e^{-x}) \\\\\n",
    "  &=& \\frac{1}{1 + e^{-x}} \\ \\times \\ \\frac{e^{-x}}{1 + e^{-x}} \\\\\n",
    "  &=& \\frac{1}{1 + e^{-x}} \\ \\times \\ (1 - \\frac{1}{1 + e^{-x}}) \\\\\n",
    "  &=& y\\ (1\\ - \\ y)\n",
    "  \\end{matrix}$"
   ]
  },
  {
   "cell_type": "code",
   "execution_count": 7,
   "metadata": {
    "id": "DNWIw7ElVhLK"
   },
   "outputs": [],
   "source": [
    "class Sigmoid():\n",
    "    \n",
    "    \n",
    "    def __init__(self):\n",
    "        self.out = None\n",
    "        \n",
    "    def forward(self, x):\n",
    "        out = 1 / (1 + np.exp(-x))\n",
    "        return out\n",
    "    def backward(self, dout):\n",
    "        dx = dout * (1.0 - self.out) * self.out\n",
    "        return dx\n",
    "    "
   ]
  },
  {
   "cell_type": "markdown",
   "metadata": {
    "id": "QWZ247xo5mtv"
   },
   "source": [
    "#### ReLU 함수\n",
    "\n",
    "![](https://3qeqpr26caki16dnhd19sv6by6v-wpengine.netdna-ssl.com/wp-content/uploads/2018/10/Line-Plot-of-Rectified-Linear-Activation-for-Negative-and-Positive-Inputs.png)\n",
    "\n",
    "<sub>출처: https://machinelearningmastery.com/rectified-linear-activation-function-for-deep-learning-neural-networks/</sub>\n",
    "\n",
    "\n",
    "- 수식  \n",
    "\n",
    "  ### $\\qquad y=\n",
    "  \\begin{cases}\n",
    "  x & (x \\ge 0)  \\\\\n",
    "  0 & (x < 0)\n",
    "  \\end{cases}$ 일 때,\n",
    "\n",
    "  <br>\n",
    "\n",
    "  ### $\\qquad \\frac{\\partial y}{\\partial x}=\n",
    "  \\begin{cases}\n",
    "  1 & (x \\ge 0)  \\\\\n",
    "  0 & (x < 0)\n",
    "  \\end{cases}$"
   ]
  },
  {
   "cell_type": "code",
   "execution_count": 8,
   "metadata": {
    "id": "hHcPmAzh5nOZ"
   },
   "outputs": [],
   "source": [
    "class ReLU():\n",
    "    \n",
    "    def __init__(self):\n",
    "        self.out = None\n",
    "        \n",
    "    def forward(self, x):\n",
    "        self.mask = (x < 0)\n",
    "        out = x.copy()\n",
    "        out[x<0] = 0\n",
    "        return out\n",
    "    \n",
    "    def backward(self, dout):\n",
    "        dout[self.mask] = 0\n",
    "        dx = dout\n",
    "        return dx\n",
    "        \n",
    "        "
   ]
  },
  {
   "cell_type": "markdown",
   "metadata": {
    "id": "MH_kQzedJFfw"
   },
   "source": [
    "### 행렬 연산에 대한 역전파\n",
    "\n",
    "# $\\qquad Y = X \\bullet W + B$"
   ]
  },
  {
   "cell_type": "markdown",
   "metadata": {
    "id": "W-SedVrpJILw"
   },
   "source": [
    "#### 순전파(forward)\n",
    "  \n",
    "  - 형상(shape)을 맞춰줘야함\n",
    "  - 앞서 봤던 곱셈, 덧셈 계층을 합친 형태"
   ]
  },
  {
   "cell_type": "code",
   "execution_count": 9,
   "metadata": {
    "id": "QKIO7EzSJGD1"
   },
   "outputs": [
    {
     "name": "stdout",
     "output_type": "stream",
     "text": [
      "(3,)\n",
      "(3, 2)\n",
      "(2,)\n"
     ]
    }
   ],
   "source": [
    "import numpy as np\n",
    "\n",
    "X = np.random.rand(3)\n",
    "W = np.random.rand(3, 2)\n",
    "B = np.random.rand(2)\n",
    "\n",
    "print(X.shape)\n",
    "print(W.shape)\n",
    "print(B.shape)\n",
    "\n"
   ]
  },
  {
   "cell_type": "code",
   "execution_count": 10,
   "metadata": {
    "id": "Tqvl76fFJNfU"
   },
   "outputs": [
    {
     "name": "stdout",
     "output_type": "stream",
     "text": [
      "(2,)\n"
     ]
    }
   ],
   "source": [
    "Y = np.dot(X, W) +B\n",
    "print(Y.shape)"
   ]
  },
  {
   "cell_type": "markdown",
   "metadata": {
    "id": "04GHZHAiJUGl"
   },
   "source": [
    "#### 역전파(1)\n",
    "\n",
    "##  $\\  Y = X \\bullet W$\n",
    "- $X :\\ \\ (2,\\ )$\n",
    "\n",
    "- $W :\\ \\ (2,\\ 3)$\n",
    "\n",
    "- $X \\bullet W :\\ \\ (3,\\ )$\n",
    "\n",
    "- $\\frac{\\partial L}{\\partial Y} :\\ \\ (3,\\ )$\n",
    "\n",
    "- $\\frac{\\partial L}{\\partial X} = \\frac{\\partial L}{\\partial Y}\\bullet W^T ,\\ (2,\\ )$\n",
    "\n",
    "- $\\frac{\\partial L}{\\partial W} = X^T \\bullet \\frac{\\partial L}{\\partial Y} ,\\ (2,\\ 3)$\n",
    "\n"
   ]
  },
  {
   "cell_type": "code",
   "execution_count": 11,
   "metadata": {
    "id": "D_Jb9sY8JYGB"
   },
   "outputs": [
    {
     "name": "stdout",
     "output_type": "stream",
     "text": [
      "X\n",
      "[0.24507785 0.26832391]\n",
      "W\n",
      "[[0.36180615 0.79907752 0.03594121]\n",
      " [0.54189917 0.94632998 0.8474682 ]]\n",
      "Y\n",
      "[0.23407518 0.44975917 0.23620438]\n"
     ]
    }
   ],
   "source": [
    "X = np.random.rand(2)\n",
    "W = np.random.rand(2, 3)\n",
    "Y = np.dot(X, W)\n",
    "\n",
    "print(\"X\\n{}\".format(X))\n",
    "print(\"W\\n{}\".format(W))\n",
    "print(\"Y\\n{}\".format(Y))"
   ]
  },
  {
   "cell_type": "code",
   "execution_count": 12,
   "metadata": {
    "id": "frdvKz8oJcoZ"
   },
   "outputs": [
    {
     "name": "stdout",
     "output_type": "stream",
     "text": [
      "dL_dY\n",
      "[0.56078158 0.6362017  0.81756195]\n",
      "dL_dX\n",
      "[0.74065287 1.59880157]\n",
      "dL_dW\n",
      "[[0.13743514 0.15591895 0.20036633]\n",
      " [0.15047111 0.17070813 0.21937142]]\n"
     ]
    }
   ],
   "source": [
    "dL_dY = np.random.rand(3)\n",
    "dL_dX = np.dot(dL_dY, W.T)\n",
    "dL_dW = np.dot(X.reshape(-1, 1), dL_dY.reshape(1,-1))\n",
    "\n",
    "print(\"dL_dY\\n{}\".format(dL_dY))\n",
    "print(\"dL_dX\\n{}\".format(dL_dX))\n",
    "print(\"dL_dW\\n{}\".format(dL_dW))"
   ]
  },
  {
   "cell_type": "markdown",
   "metadata": {
    "id": "uuOVqySWJauS"
   },
   "source": [
    "#### 역전파(2)\n",
    "\n",
    "## $\\ (2)\\  Y = X \\bullet W + B$\n",
    "- $X, W$는 위와 동일\n",
    "\n",
    "- $B: \\ (3, )$\n",
    "\n",
    "- $\\frac{\\partial L}{\\partial B} = \\frac{\\partial L}{\\partial Y}, \\ (3,\\ )$"
   ]
  },
  {
   "cell_type": "code",
   "execution_count": 13,
   "metadata": {
    "id": "D_Jb9sY8JYGB"
   },
   "outputs": [
    {
     "name": "stdout",
     "output_type": "stream",
     "text": [
      "Y\n",
      "[2.26602743 0.80237807 1.21125121]\n"
     ]
    }
   ],
   "source": [
    "X = np.random.rand(2)\n",
    "W = np.random.rand(2, 3)\n",
    "B = np.random.rand(3)\n",
    "Y = np.dot(X, W) + B\n",
    "\n",
    "print(\"Y\\n{}\".format(Y))"
   ]
  },
  {
   "cell_type": "code",
   "execution_count": 14,
   "metadata": {
    "id": "frdvKz8oJcoZ"
   },
   "outputs": [
    {
     "name": "stdout",
     "output_type": "stream",
     "text": [
      "dL_dY\n",
      "[0.20328865 0.54212997 0.4286876 ]\n",
      "dL_dX\n",
      "[0.50068544 0.82788353]\n",
      "dL_dW\n",
      "[[0.16627867 0.4434318  0.35064232]\n",
      " [0.14075003 0.37535204 0.29680847]]\n",
      "dL_dB\n",
      "[0.20328865 0.54212997 0.4286876 ]\n"
     ]
    }
   ],
   "source": [
    "dL_dY = np.random.rand(3)\n",
    "dL_dX = np.dot(dL_dY, W.T)\n",
    "dL_dW = np.dot(X.reshape(-1, 1), dL_dY.reshape(1,-1))\n",
    "dL_dB = dL_dY\n",
    "\n",
    "print(\"dL_dY\\n{}\".format(dL_dY))\n",
    "print(\"dL_dX\\n{}\".format(dL_dX))\n",
    "print(\"dL_dW\\n{}\".format(dL_dW))\n",
    "print(\"dL_dB\\n{}\".format(dL_dB))"
   ]
  },
  {
   "cell_type": "markdown",
   "metadata": {
    "id": "0FrBSUsRJgFl"
   },
   "source": [
    "#### 배치용 행렬 내적 계층\n",
    "- N개의 데이터에 대해,  \n",
    "# $\\qquad Y = X \\bullet W + B$\n",
    "\n",
    "  - $X : \\quad  (N,\\ 3)$\n",
    "\n",
    "  - $W : \\quad  (3,\\ 2)$\n",
    "\n",
    "  - $B : \\quad  (2,\\ )$\n",
    "  "
   ]
  },
  {
   "cell_type": "code",
   "execution_count": 15,
   "metadata": {
    "id": "AoWx5fDnJd-2"
   },
   "outputs": [
    {
     "name": "stdout",
     "output_type": "stream",
     "text": [
      "(4, 3)\n",
      "(3, 2)\n",
      "(2,)\n"
     ]
    }
   ],
   "source": [
    "X = np.random.randn(4,3)\n",
    "W = np.random.randn(3,2)\n",
    "B = np.random.randn(2)\n",
    "\n",
    "print(X.shape)\n",
    "print(W.shape)\n",
    "print(B.shape)"
   ]
  },
  {
   "cell_type": "code",
   "execution_count": 16,
   "metadata": {
    "id": "EqhSX54BJmPQ"
   },
   "outputs": [
    {
     "name": "stdout",
     "output_type": "stream",
     "text": [
      "X\n",
      "[[-0.53767597 -0.20762852 -0.63016969]\n",
      " [ 0.50250149 -0.2673608   0.38297033]\n",
      " [-0.82067553  1.68496561  0.94296756]\n",
      " [ 2.27541759 -1.41929646  0.11313312]]\n",
      "W\n",
      "[[-1.79473375 -1.18278717]\n",
      " [-2.75733139  1.05475944]\n",
      " [ 0.6043522   0.29837141]]\n",
      "B\n",
      "[0.39267434 1.31441052]\n"
     ]
    }
   ],
   "source": [
    "print(\"X\\n{}\".format(X))\n",
    "print(\"W\\n{}\".format(W))\n",
    "print(\"B\\n{}\".format(B))\n"
   ]
  },
  {
   "cell_type": "code",
   "execution_count": 17,
   "metadata": {
    "id": "_1IOOfhuJqF-"
   },
   "outputs": [
    {
     "name": "stdout",
     "output_type": "stream",
     "text": [
      "Y\n",
      "[[ 1.54931574  1.54334401]\n",
      " [ 0.45946923  0.55232427]\n",
      " [-2.21055565  4.34368296]\n",
      " [ 0.29074853 -2.84018488]]\n",
      "Y.shape: (4, 2)\n"
     ]
    }
   ],
   "source": [
    "Y = np.dot(X, W) + B\n",
    "\n",
    "print(\"Y\\n{}\".format(Y))\n",
    "print(\"Y.shape:\", Y.shape)\n"
   ]
  },
  {
   "cell_type": "code",
   "execution_count": 18,
   "metadata": {
    "id": "TOKsN2NHJrqT"
   },
   "outputs": [
    {
     "name": "stdout",
     "output_type": "stream",
     "text": [
      "dL_dY\n",
      "[[-0.36509433  0.6737584 ]\n",
      " [-0.87652997  0.45916877]\n",
      " [-0.46222875 -0.51864382]\n",
      " [ 1.36221945  0.36607211]]\n",
      "dL_dX\n",
      "[[-0.14166567  1.71733911 -0.01961532]\n",
      " [ 1.03003899  2.90119621 -0.39272998]\n",
      " [ 1.4430228   0.72747339 -0.43409745]\n",
      " [-2.87780662 -3.36997242  0.93248577]]\n",
      "dL_dW\n",
      "[[ 3.23480275  1.12707451]\n",
      " [-2.40207904 -1.65611704]\n",
      " [-0.38736817 -0.69638352]]\n",
      "dL_dB\n",
      "[-0.34163361  0.98035547]\n"
     ]
    }
   ],
   "source": [
    "dL_dY = np.random.randn(4, 2)\n",
    "dL_dX = np.dot(dL_dY, W.T)\n",
    "dL_dW = np.dot(X.T, dL_dY)\n",
    "dL_dB = np.sum(dL_dY, axis=0)\n",
    "\n",
    "print(\"dL_dY\\n{}\".format(dL_dY))\n",
    "print(\"dL_dX\\n{}\".format(dL_dX))\n",
    "print(\"dL_dW\\n{}\".format(dL_dW))\n",
    "print(\"dL_dB\\n{}\".format(dL_dB))"
   ]
  },
  {
   "cell_type": "code",
   "execution_count": 19,
   "metadata": {
    "id": "YjIYrXGaJtEz"
   },
   "outputs": [],
   "source": [
    "class Layer():\n",
    "    \n",
    "    def __init__(self):\n",
    "        self.W = np.random.randn(3, 2)\n",
    "        self.b = np.random.randn(2)\n",
    "        self.x = None\n",
    "        self.dW = None\n",
    "        self.db = None\n",
    "        \n",
    "    def forward(self, x):\n",
    "        self.x = x\n",
    "        out = np.dot(x, self.W) +self.b\n",
    "        return out\n",
    "    \n",
    "    def backward(self, dout):\n",
    "        dx = np.dot(dout, self.W.T)\n",
    "        self.dW = np.dot(self.x.T, dout)\n",
    "        self.db = np.sum(dout, axis=0)\n",
    "        return dx\n",
    "            \n",
    "    "
   ]
  },
  {
   "cell_type": "code",
   "execution_count": 20,
   "metadata": {
    "id": "twG43EylJvC-"
   },
   "outputs": [],
   "source": [
    "np.random.seed(111)\n",
    "\n",
    "layer = Layer()"
   ]
  },
  {
   "cell_type": "code",
   "execution_count": 21,
   "metadata": {
    "id": "CrCDxHw5Jw3S"
   },
   "outputs": [
    {
     "name": "stdout",
     "output_type": "stream",
     "text": [
      "[[-0.73552305 -1.18393989  0.23889413]\n",
      " [-0.58992026 -1.44058512  0.77370311]]\n"
     ]
    }
   ],
   "source": [
    "X = np.random.randn(2, 3)\n",
    "Y = layer.forward(X)\n",
    "\n",
    "print(X)\n"
   ]
  },
  {
   "cell_type": "code",
   "execution_count": 22,
   "metadata": {
    "id": "boKm8OIgJyJy"
   },
   "outputs": [
    {
     "name": "stdout",
     "output_type": "stream",
     "text": [
      "[[ 1.130581   -1.50607349  0.85136137]\n",
      " [-0.39464219  0.58538797 -0.5825798 ]]\n"
     ]
    }
   ],
   "source": [
    "dout = np.random.randn(2, 2)\n",
    "dout_dx = layer.backward(dout)\n",
    "\n",
    "print(dout_dx)"
   ]
  },
  {
   "cell_type": "markdown",
   "metadata": {
    "id": "Bz-0zFPpJ3Jz"
   },
   "source": [
    "### MNIST 분류 with 역전파\n"
   ]
  },
  {
   "cell_type": "markdown",
   "metadata": {
    "id": "eW3InPxBJ6qo"
   },
   "source": [
    "#### Modules Import"
   ]
  },
  {
   "cell_type": "code",
   "execution_count": 23,
   "metadata": {
    "id": "ZKtAhkm4J2Z3"
   },
   "outputs": [
    {
     "name": "stdout",
     "output_type": "stream",
     "text": [
      "Init Plugin\n",
      "Init Graph Optimizer\n",
      "Init Kernel\n"
     ]
    }
   ],
   "source": [
    "import tensorflow as tf\n",
    "import numpy as np\n",
    "import matplotlib.pyplot as plt\n",
    "plt.style.use('seaborn-whitegrid')\n",
    "from collections import OrderedDict"
   ]
  },
  {
   "cell_type": "markdown",
   "metadata": {
    "id": "F1_2_jGMKGiT"
   },
   "source": [
    "#### 데이터 로드"
   ]
  },
  {
   "cell_type": "code",
   "execution_count": 24,
   "metadata": {
    "id": "S3SQq80sJ8mR"
   },
   "outputs": [],
   "source": [
    "np.random.seed(42)\n",
    "\n",
    "mnist = tf.keras.datasets.mnist\n",
    "\n",
    "(X_train, y_train), (X_test, y_test) = mnist.load_data()\n",
    "\n",
    "num_classes = 10\n"
   ]
  },
  {
   "cell_type": "markdown",
   "metadata": {
    "id": "mv_pjKdxKKIy"
   },
   "source": [
    "#### 데이터 전처리"
   ]
  },
  {
   "cell_type": "code",
   "execution_count": 25,
   "metadata": {
    "id": "B95lI86tKIyY"
   },
   "outputs": [],
   "source": [
    "X_train, X_test = X_train.reshape(-1, 28 * 28).astype(np.float32), X_test.reshape(-1, 28 * 28).astype(np.float32)\n",
    "X_train /= .255\n",
    "X_test /= .255\n",
    "\n",
    "y_train = np.eye(num_classes)[y_train]\n"
   ]
  },
  {
   "cell_type": "code",
   "execution_count": 26,
   "metadata": {
    "id": "ar7DZIlMKLjJ"
   },
   "outputs": [
    {
     "name": "stdout",
     "output_type": "stream",
     "text": [
      "(60000, 784)\n",
      "(60000, 10)\n",
      "(10000, 784)\n",
      "(10000,)\n"
     ]
    }
   ],
   "source": [
    "print(X_train.shape)\n",
    "print(y_train.shape)\n",
    "print(X_test.shape)\n",
    "print(y_test.shape)\n"
   ]
  },
  {
   "cell_type": "markdown",
   "metadata": {
    "id": "Oye4pC82KPbg"
   },
   "source": [
    "#### Hyper Parameters"
   ]
  },
  {
   "cell_type": "code",
   "execution_count": 27,
   "metadata": {
    "id": "rFeXORJjKM7s"
   },
   "outputs": [],
   "source": [
    "epochs = 1000\n",
    "learning_rate = 1e-3\n",
    "batch_size = 100\n",
    "train_size = X_train.shape[0]\n",
    "\n",
    "\n"
   ]
  },
  {
   "cell_type": "markdown",
   "metadata": {
    "id": "cIdzuyRDKSm0"
   },
   "source": [
    "#### Util Functions"
   ]
  },
  {
   "cell_type": "code",
   "execution_count": 28,
   "metadata": {
    "id": "8E2_fN1dKRzv"
   },
   "outputs": [],
   "source": [
    "def softmax(x):\n",
    "#     if x.ndim == 2:\n",
    "#         x = x.T\n",
    "#         x = x - np.max(x, axis=0)\n",
    "#         y = np.exp(x) / np.sum(np.exp(x), axis=0)\n",
    "#         return y.T\n",
    "    \n",
    "#     x = x - np.max(x)\n",
    "#     return np.exp(x) / np.sum(np.exp(x))\n",
    "    return np.exp(x)/np.sum(np.exp(x),axis=1, keepdims=True) \n",
    "    \n",
    "def mean_squared_error(pred_y, true_y):\n",
    "    return np.mean(np.sum(np.square((y - pred_y))))\n",
    "    \n",
    "def cross_entropy_error(pred_y, true_y):\n",
    "    if pred_y.ndim == 1:\n",
    "        true_y = true_y.reshape(1, true_y.size)\n",
    "        pred_y = pred_y.reshape(1, pred_y.size)\n",
    "    \n",
    "    if true_y.size == pred_y.size:\n",
    "        true_y = true_y.argmax(axis=1)\n",
    "\n",
    "    batch_size = pred_y.shape[0]\n",
    "    return -np.sum(np.log(pred_y[np.arange(batch_size), true_y] + 1e-7)) / batch_size\n",
    "\n",
    "def softmax_loss(X, true_y):\n",
    "    pred_y = softmax(X)\n",
    "    return cross_entropy_error(pred_y, true_y)\n",
    "\n",
    "    \n",
    "        "
   ]
  },
  {
   "cell_type": "markdown",
   "metadata": {
    "id": "SBvWUNh-KY2R"
   },
   "source": [
    "#### Util Classes"
   ]
  },
  {
   "cell_type": "markdown",
   "metadata": {
    "id": "rc0sLXWJs8Dq"
   },
   "source": [
    "##### ReLU"
   ]
  },
  {
   "cell_type": "code",
   "execution_count": 29,
   "metadata": {
    "id": "ej2m6Robs-uJ"
   },
   "outputs": [],
   "source": [
    "class ReLU():\n",
    "    def __init__(self):\n",
    "        self.out = None\n",
    "        \n",
    "    def forward(self, x):\n",
    "        self.mask = ( x<0 )\n",
    "        out = x.copy()\n",
    "        out[x<0] = 0\n",
    "        return out\n",
    "    \n",
    "    def backward(self, dout):\n",
    "        dout[self.mask] = 0\n",
    "        dx = dout\n",
    "        return dx\n",
    "    "
   ]
  },
  {
   "cell_type": "markdown",
   "metadata": {
    "id": "RucLfG0EtYcf"
   },
   "source": [
    "##### Sigmoid"
   ]
  },
  {
   "cell_type": "code",
   "execution_count": 30,
   "metadata": {
    "id": "TWoPmtpNtZ__"
   },
   "outputs": [],
   "source": [
    "class Sigmoid():\n",
    "    def __init__(self):\n",
    "        self.out = None\n",
    "        \n",
    "    def forward(self, x):\n",
    "        out = 1 / (1 + np.exp(-x))\n",
    "        return out\n",
    "    \n",
    "    def backward(self, dout):\n",
    "        dx = dout * (1.0 - self.out) * self.dout\n",
    "        return dx\n"
   ]
  },
  {
   "cell_type": "markdown",
   "metadata": {
    "id": "IZZeNtd-tuM5"
   },
   "source": [
    "##### Layer"
   ]
  },
  {
   "cell_type": "code",
   "execution_count": 31,
   "metadata": {
    "id": "NEcCZ4bFtzgq"
   },
   "outputs": [],
   "source": [
    "class Layer():\n",
    "    def __init__(self, W, b):\n",
    "        self.W = W\n",
    "        self.b = b\n",
    "        \n",
    "        self.x = None\n",
    "        self.origin_x_shape = None\n",
    "        \n",
    "        self.dL_dW = None\n",
    "        self.dL_db = None\n",
    "        \n",
    "    def forward(self, x):\n",
    "        self.origin_x_shape = x.shape\n",
    "        \n",
    "        x = x.reshape(x.shape[0], -1)\n",
    "        self.x = x\n",
    "        out = np.dot(self.x, self.W) + self.b\n",
    "        \n",
    "        return out\n",
    "    \n",
    "    def backward(self, dout):\n",
    "        dx = np.dot(dout, self.W.T)\n",
    "        self.dL_dW = np.dot(self.x.T, dout)\n",
    "        self.dL_db = np.sum(dout, axis=0)\n",
    "        dx = dx.reshape(*self.origin_x_shape)\n",
    "        return dx"
   ]
  },
  {
   "cell_type": "markdown",
   "metadata": {
    "id": "s1Yqp7kVvOoD"
   },
   "source": [
    "#### Softmax"
   ]
  },
  {
   "cell_type": "code",
   "execution_count": 32,
   "metadata": {
    "id": "0RXBVEMdvP9r"
   },
   "outputs": [],
   "source": [
    "class Softmax():\n",
    "    def __init__(self):\n",
    "        self.loss = None\n",
    "        self.y = None\n",
    "        self.t = None\n",
    "    def forward(self, x, t):\n",
    "        self.t = t\n",
    "        self.y = softmax(x)\n",
    "        self.loss = cross_entropy_error(self.y, self.t)\n",
    "        \n",
    "        return self.loss\n",
    "    \n",
    "    def backward(self, dout=1):\n",
    "        batch_size = self.t.shape[0]\n",
    "        \n",
    "        if self.t.size == self.y.size:\n",
    "            dx = (self.y - self.t) / batch_size\n",
    "        else:\n",
    "            dx = self.y.copy()\n",
    "            dx[np.arange(batch_size), self.t] -= 1\n",
    "            dx = dx / batch_size\n",
    "            \n",
    "        return dx"
   ]
  },
  {
   "cell_type": "code",
   "execution_count": 33,
   "metadata": {
    "id": "sX4I-bKfuRaq"
   },
   "outputs": [],
   "source": [
    "class MyModel():\n",
    "    \n",
    "    def __init__(self, input_size, hidden_size_list, output_size, activation='relu'):\n",
    "        self.input_size = input_size\n",
    "        self.output_size = output_size\n",
    "        self.hidden_size_list = hidden_size_list\n",
    "        self.hidden_layer_num = len(hidden_size_list)\n",
    "        self.params = {}\n",
    "        \n",
    "        self.__init_weights(activation)\n",
    "        \n",
    "        activation_layer = {'sigmoid': Sigmoid, 'relu': ReLU}\n",
    "        self.layers = OrderedDict()\n",
    "        for idx in range(1, self.hidden_layer_num + 1):\n",
    "            self.layers['Layer' + str(idx)] = Layer(self.params['W' + str(idx)],\n",
    "                                                    self.params['b' + str(idx)])\n",
    "            self.layers['Activation_function' + str(idx)] = activation_layer[activation]()\n",
    "            \n",
    "        idx = self.hidden_layer_num + 1\n",
    "        \n",
    "        self.layers['Layer' + str(idx)] = Layer(self.params['W' + str(idx)],\n",
    "                                                self.params['b' + str(idx)])\n",
    "        \n",
    "        self.last_layer= Softmax()\n",
    "        \n",
    "    def __init_weights(self, activation):\n",
    "        weight_std = None\n",
    "        all_size_list = [self.input_size] + self.hidden_size_list + [self.output_size]\n",
    "        for idx in range(1, len(all_size_list)):\n",
    "            if activation.lower() == \"relu\":\n",
    "                weight_std = np.sqrt(2.0 / self.input_size)\n",
    "            elif activation.lower() == \"sigmoid\":\n",
    "                weight_std = np.sqrt(1.0 / self.input_size)\n",
    "                \n",
    "            self.params['W' + str(idx)] = weight_std * np.random.randn(all_size_list[idx-1], all_size_list[idx])\n",
    "            self.params['b' + str(idx)] = np.random.randn(all_size_list[idx])\n",
    "            \n",
    "    def predict(self, x):\n",
    "        for layer in self.layers.values():\n",
    "            x = layer.forward(x)\n",
    "            \n",
    "        return x\n",
    "    \n",
    "    \n",
    "    def loss(self, x, true_y):\n",
    "        pred_y = self.predict(x)\n",
    "        \n",
    "        return self.last_layer.forward(pred_y, true_y)\n",
    "    \n",
    "    def accuracy(self, x, true_y):\n",
    "        pred_y = self.predict(x)\n",
    "        pred_y = np.argmax(pred_y, axis=1)\n",
    "        \n",
    "        if true_y.ndim != 1:\n",
    "            true_y = np.argmax(true_y, axis=1)\n",
    "            \n",
    "        accuracy = np.sum(pred_y == true_y) / float(x.shape[0])\n",
    "        \n",
    "        return accuracy\n",
    "        \n",
    "    def gradient(self, x, t):\n",
    "        self.loss(x, t)\n",
    "        \n",
    "        dout = 1\n",
    "        dout = self.last_layer.backward(dout)\n",
    "        \n",
    "        layers = list(self.layers.values())\n",
    "        layers.reverse()\n",
    "        for layer in layers:\n",
    "            dout = layer.backward(dout)\n",
    "            \n",
    "        grads = {}\n",
    "        \n",
    "        for idx in range(1, self.hidden_layer_num + 2):\n",
    "            grads['W' + str(idx)] =self.layers['Layer' + str(idx)].dL_dW\n",
    "            grads['b' + str(idx)] =self.layers['Layer' + str(idx)].dL_db\n",
    "            \n",
    "        return grads\n",
    "        \n",
    "            \n",
    "        \n",
    "        \n",
    "        \n",
    "        "
   ]
  },
  {
   "cell_type": "markdown",
   "metadata": {
    "id": "LwyNo3TsyDZR"
   },
   "source": [
    "#### 모델 생성 및 학습"
   ]
  },
  {
   "cell_type": "code",
   "execution_count": 34,
   "metadata": {
    "id": "Du5naLufxMvv"
   },
   "outputs": [],
   "source": [
    "model = MyModel(28*28, [100, 64, 32], 10, activation='relu')"
   ]
  },
  {
   "cell_type": "code",
   "execution_count": 35,
   "metadata": {
    "id": "Rb0HhW9x0mrN"
   },
   "outputs": [],
   "source": [
    "train_loss_list = []\n",
    "train_acc_list = []\n",
    "test_acc_list = []\n"
   ]
  },
  {
   "cell_type": "code",
   "execution_count": 36,
   "metadata": {
    "id": "VV5PciwAxM6s"
   },
   "outputs": [
    {
     "name": "stdout",
     "output_type": "stream",
     "text": [
      "Epoch: 1 Train Acc: 0.12791666666666668 Test Acc: 0.141\n",
      "Epoch: 51 Train Acc: 0.6243 Test Acc: 0.6368\n",
      "Epoch: 101 Train Acc: 0.7079 Test Acc: 0.7168\n",
      "Epoch: 151 Train Acc: 0.7571666666666667 Test Acc: 0.7665\n",
      "Epoch: 201 Train Acc: 0.7853333333333333 Test Acc: 0.7972\n",
      "Epoch: 251 Train Acc: 0.8018666666666666 Test Acc: 0.8104\n",
      "Epoch: 301 Train Acc: 0.8177166666666666 Test Acc: 0.8259\n",
      "Epoch: 351 Train Acc: 0.8330666666666666 Test Acc: 0.8364\n",
      "Epoch: 401 Train Acc: 0.84165 Test Acc: 0.8471\n",
      "Epoch: 451 Train Acc: 0.8497666666666667 Test Acc: 0.8521\n",
      "Epoch: 501 Train Acc: 0.85935 Test Acc: 0.8625\n",
      "Epoch: 551 Train Acc: 0.8565 Test Acc: 0.8581\n",
      "Epoch: 601 Train Acc: 0.8689666666666667 Test Acc: 0.8704\n",
      "Epoch: 651 Train Acc: 0.8676333333333334 Test Acc: 0.8682\n",
      "Epoch: 701 Train Acc: 0.8746333333333334 Test Acc: 0.8744\n",
      "Epoch: 751 Train Acc: 0.8797 Test Acc: 0.8784\n",
      "Epoch: 801 Train Acc: 0.8787166666666667 Test Acc: 0.8759\n",
      "Epoch: 851 Train Acc: 0.8843666666666666 Test Acc: 0.8841\n",
      "Epoch: 901 Train Acc: 0.8861166666666667 Test Acc: 0.885\n",
      "Epoch: 951 Train Acc: 0.8917 Test Acc: 0.8909\n"
     ]
    }
   ],
   "source": [
    "for epoch in range(epochs):\n",
    "    batch_mask = np.random.choice(train_size, batch_size)\n",
    "    x_batch = X_train[batch_mask]\n",
    "    y_batch = y_train[batch_mask]\n",
    "    \n",
    "    grad = model.gradient(x_batch, y_batch)\n",
    "    \n",
    "    for key in model.params.keys():\n",
    "        model.params[key] -= learning_rate * grad[key]\n",
    "        \n",
    "    loss = model.loss(x_batch, y_batch)\n",
    "    train_loss_list.append(loss)\n",
    "    \n",
    "    if epoch % 50 == 0:\n",
    "        train_acc = model.accuracy(X_train, y_train)\n",
    "        test_acc = model.accuracy(X_test, y_test)\n",
    "        train_acc_list.append(train_acc)\n",
    "        test_acc_list.append(test_acc)\n",
    "        print(\"Epoch: {} Train Acc: {} Test Acc: {}\".format(epoch+1, train_acc, test_acc))"
   ]
  },
  {
   "cell_type": "code",
   "execution_count": 37,
   "metadata": {
    "id": "dqqlZOF6KjDl"
   },
   "outputs": [
    {
     "data": {
      "image/png": "[encoded data removed]",
      "text/plain": [
       "<Figure size 432x288 with 1 Axes>"
      ]
     },
     "metadata": {},
     "output_type": "display_data"
    }
   ],
   "source": [
    "plt.plot(np.arange(1000//50), train_acc_list, 'r--', label='train_acc')\n",
    "plt.plot(np.arange(1000//50), test_acc_list, 'b', label='test_acc')\n",
    "\n",
    "plt.title('Result')\n",
    "plt.xlabel('Epochs')\n",
    "plt.legend(loc=5)\n",
    "plt.grid()\n",
    "plt.show()"
   ]
  },
  {
   "cell_type": "code",
   "execution_count": 38,
   "metadata": {
    "id": "_BwHrt9nP8y8"
   },
   "outputs": [
    {
     "data": {
      "image/png": "[encoded data removed]",
      "text/plain": [
       "<Figure size 432x288 with 1 Axes>"
      ]
     },
     "metadata": {},
     "output_type": "display_data"
    }
   ],
   "source": [
    "plt.plot(np.arange(1000), train_loss_list, 'green', label='train_loss')\n",
    "plt.title('Train Loss')\n",
    "plt.xlabel('Epochs')\n",
    "plt.legend(loc=5)\n",
    "plt.grid()\n",
    "plt.show()"
   ]
  }
 ],
 "metadata": {
  "colab": {
   "collapsed_sections": [],
   "name": "Copy of _8 오차역전파 (Backpropagation)",
   "provenance": [
    {
     "file_id": "1XTRcNbxFCqXbi5LJPLNfN6PEDPUvS8Qk",
     "timestamp": 1628856815851
    }
   ],
   "toc_visible": true
  },
  "kernelspec": {
   "display_name": "Python 3 (ipykernel)",
   "language": "python",
   "name": "python3"
  },
  "language_info": {
   "codemirror_mode": {
    "name": "ipython",
    "version": 3
   },
   "file_extension": ".py",
   "mimetype": "text/x-python",
   "name": "python",
   "nbconvert_exporter": "python",
   "pygments_lexer": "ipython3",
   "version": "3.9.7"
  }
 },
 "nbformat": 4,
 "nbformat_minor": 4
}
