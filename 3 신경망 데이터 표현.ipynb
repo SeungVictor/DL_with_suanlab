{
 "cells": [
  {
   "cell_type": "markdown",
   "metadata": {
    "id": "ebow7b5dS-KW"
   },
   "source": [
    "# 신경망 데이터 표현"
   ]
  },
  {
   "cell_type": "code",
   "execution_count": 1,
   "metadata": {
    "id": "9BDaiyTNBFAN"
   },
   "outputs": [],
   "source": [
    "import numpy as np\n",
    "import matplotlib.pyplot as plt\n",
    "plt.style.use(['seaborn-whitegrid'])\n"
   ]
  },
  {
   "cell_type": "markdown",
   "metadata": {
    "id": "7Ic-YQ7xBQ9m"
   },
   "source": [
    "## 텐서(Tensor)\n",
    "- 일반적으로 텐서는 3차원 이상을 다룰 때 표현하는 방식이지만, 여기서는 어떠한 데이터를 표현할 때, 그 값 모두를 텐서라고 부르기로 함\n",
    "\n",
    "      a = np.array([1, 2])\n",
    "      b = np.array([[1, 2],\n",
    "                    [3, 4]])\n",
    "      c = np.array([10]) \n",
    "      d = np.array(3) #scallar 차원이없음\n",
    "  \n",
    "    a, b, c, d 모두 텐서라고 지칭할 수 있음\n",
    "  \n",
    "- 랭크(rank): 텐서의 축을 나타내고, 넘파이(numpy)의 `ndim`으로 구할 수 있음\n",
    "\n",
    "      a = np.array([1, 2])\n",
    "        >> ndim = 1  \n",
    "      b = np.array([[1, 2],\n",
    "                    [3, 4]])\n",
    "        >> ndim = 2\n",
    "      d = np.array(3)\n",
    "        >> ndim = 0\n",
    "      \n",
    "    위의 예시에서 알 수 있듯이 대괄호( [ ] )의 개수가 곧 랭크(축)의 값\n",
    "    \n",
    "      \n",
    "- 크기(shape): 텐서의 각 축을 따라 얼마나 많은 차원이 있는지를 나타내며, 파이썬의 튜플(tuple) 형태\n"
   ]
  },
  {
   "cell_type": "markdown",
   "metadata": {
    "id": "ehzSlqdjBVxB"
   },
   "source": [
    "## 그림으로 이해하기\n",
    "\n",
    "![array](https://www.oreilly.com/library/view/elegant-scipy/9781491922927/assets/elsp_0105.png)\n",
    "<br /><sub>출처: https://www.oreilly.com/library/view/elegant-scipy/9781491922927/ch01.html</sub>"
   ]
  },
  {
   "cell_type": "markdown",
   "metadata": {
    "id": "AxZDqX5HBYMf"
   },
   "source": [
    "## 스칼라(0차원 텐서)\n",
    "- 하나의 숫자를 담고 있는 텐서(tensor)\n",
    "- 형상은 없음"
   ]
  },
  {
   "cell_type": "code",
   "execution_count": 2,
   "metadata": {
    "id": "TicFogkHBPRW"
   },
   "outputs": [
    {
     "name": "stdout",
     "output_type": "stream",
     "text": [
      "3\n",
      "()\n",
      "0\n"
     ]
    }
   ],
   "source": [
    "x = np.array(3)\n",
    "print(x)\n",
    "print(x.shape)\n",
    "print(np.ndim(x))"
   ]
  },
  {
   "cell_type": "markdown",
   "metadata": {
    "id": "rab-I4gyBeZw"
   },
   "source": [
    "## 벡터(1차원 텐서)\n",
    "- 숫자의 배열을 나타내는 텐서\n"
   ]
  },
  {
   "cell_type": "code",
   "execution_count": 3,
   "metadata": {
    "id": "s4gm0mRVBZwa"
   },
   "outputs": [
    {
     "name": "stdout",
     "output_type": "stream",
     "text": [
      "[1 2 3 4]\n",
      "(4,)\n",
      "1\n"
     ]
    }
   ],
   "source": [
    "x = np.array([1, 2, 3, 4])\n",
    "print(x)\n",
    "print(x.shape)\n",
    "print(np.ndim(x))\n",
    "\n"
   ]
  },
  {
   "cell_type": "markdown",
   "metadata": {
    "id": "-S3G7ym8Bh6I"
   },
   "source": [
    "### 벡터의 합\n",
    "- 같은 형상(shape)일 때, 각 원소별로 계산"
   ]
  },
  {
   "cell_type": "code",
   "execution_count": 4,
   "metadata": {
    "id": "6pzPyoNqBcgn"
   },
   "outputs": [
    {
     "name": "stdout",
     "output_type": "stream",
     "text": [
      "[1 2 3 4]\n",
      "[5 6 7 8]\n",
      "[ 6  8 10 12]\n",
      "(4,)\n",
      "1\n"
     ]
    }
   ],
   "source": [
    "a = np.array([1, 2, 3, 4])\n",
    "b = np.array([5, 6, 7, 8])\n",
    "\n",
    "c = a + b\n",
    "print(a)\n",
    "print(b)\n",
    "print(c)\n",
    "print(c.shape)\n",
    "print(np.ndim(c))"
   ]
  },
  {
   "cell_type": "markdown",
   "metadata": {
    "id": "RqnBR8DyBla5"
   },
   "source": [
    "### 벡터의 곱\n",
    "-  $A = (x_1, \\ x_2, \\ x3, \\ ..., \\ x_n)$  \n",
    "  $B = (y_1, \\ y_2, \\ y3, \\ ..., \\ y_n)$ 일 때,\n",
    "- 원소곱\n",
    "  - 같은 형상(shape)일 때, 각 원소별로 계산   \n",
    "   \n",
    "    $A \\times B = (x_1, \\ x_2, \\ x_3, \\ ..., \\ x_n) \\times (y_1, \\ y_2, \\ y_3, \\ ..., \\ y_n) \\\\   \n",
    "    \\qquad = (x_1y_1, \\ x_2y_2, \\ x_3y_3, \\ ... \\ ,  \\ x_ny_n)  $\n",
    "    \n",
    "- 벡터곱(product, dot)\n",
    "  - 두 1차원 벡터가 있을 때 **각각의 성분끼리의 곱을 모두 더하는 계산**  \n",
    "  \n",
    "    $A \\bullet B \\Rightarrow A \\times B^T = (x_1, \\ x_2, \\ x_3, \\ ..., \\ x_n) \\begin{pmatrix} y_1 \\\\ y_2 \\\\ y_3 \\\\ ... \\\\ y_n  \\end{pmatrix} \\\\  \n",
    "    \\qquad = (x_1y_1 + \\ x_2y_2 + \\ x_3y_3 + \\ ... + \\ x_ny_n)  $\n",
    "  "
   ]
  },
  {
   "cell_type": "code",
   "execution_count": 5,
   "metadata": {
    "id": "kxcrUZPwBceX"
   },
   "outputs": [
    {
     "name": "stdout",
     "output_type": "stream",
     "text": [
      "[ 5 12 21 32]\n",
      "(4,)\n",
      "1\n",
      "----------------\n",
      "4\n",
      "()\n",
      "0\n"
     ]
    }
   ],
   "source": [
    "a = np.array([1, 2, 3, 4])\n",
    "b = np.array([5, 6, 7, 8])\n",
    "\n",
    "c = a * b # 원소곱\n",
    "\n",
    "print(c)\n",
    "print(c.shape)\n",
    "print(np.ndim(c))\n",
    "print('----------------')\n",
    "\n",
    "x = np.array([1, 2, 0])\n",
    "y = np.array([0, 2, 1])\n",
    "z = np.dot(x, y) # 벡터곱 -> 스칼라로 하나의 단위로나옴 \n",
    "\n",
    "print(z)\n",
    "print(z.shape)\n",
    "print(np.ndim(z))\n",
    "\n"
   ]
  },
  {
   "cell_type": "markdown",
   "metadata": {
    "id": "IIKrmykBBpn4"
   },
   "source": [
    "## 스칼라와 벡터의 곱\n"
   ]
  },
  {
   "cell_type": "code",
   "execution_count": 6,
   "metadata": {
    "id": "CWNGJnA9BcaU"
   },
   "outputs": [
    {
     "name": "stdout",
     "output_type": "stream",
     "text": [
      "[10 20 30]\n"
     ]
    }
   ],
   "source": [
    "a = np.array(10)\n",
    "b = np.array([1, 2, 3])\n",
    "print( a* b)\n"
   ]
  },
  {
   "cell_type": "markdown",
   "metadata": {
    "id": "a_WUc48rBszu"
   },
   "source": [
    "## 2차원 텐서(행렬)\n",
    "- 2차원 텐서는 행렬로 생각할 수 있음\n",
    "    - (m, n) 형상의 배열\n",
    "\n",
    "![matrix](https://upload.wikimedia.org/wikipedia/commons/thumb/4/4d/Matrix_ko.svg/570px-Matrix_ko.svg.png)\n",
    "<br /><sub>출처: https://ko.wikipedia.org/wiki/%ED%96%89%EB%A0%AC</sub>\n"
   ]
  },
  {
   "cell_type": "code",
   "execution_count": 7,
   "metadata": {
    "id": "M6QQeHZJBcX6"
   },
   "outputs": [
    {
     "name": "stdout",
     "output_type": "stream",
     "text": [
      "[[1 2 3]\n",
      " [4 5 6]]\n",
      "(2, 3)\n",
      "2\n",
      "-------------\n",
      "[[1 2 3 4]]\n",
      "(1, 4)\n",
      "2\n"
     ]
    }
   ],
   "source": [
    "matrix = np.array([[1,2,3],\n",
    "                  [4,5,6]])\n",
    "print(matrix)\n",
    "print(matrix.shape)\n",
    "print(np.ndim(matrix))\n",
    "print('-------------')\n",
    "\n",
    "matrix2 = np.array([[1, 2, 3, 4]]) #차원은 2차원임\n",
    "print(matrix2)\n",
    "print(matrix2.shape)\n",
    "print(np.ndim(matrix2))"
   ]
  },
  {
   "cell_type": "markdown",
   "metadata": {
    "id": "6LEedf9GB2G1"
   },
   "source": [
    "### 행렬 원소곱\n",
    "- 같은 형상(shape)일 때 덧셈, 곱셈과 같은 연산은 원소별로 진행\n"
   ]
  },
  {
   "cell_type": "code",
   "execution_count": 8,
   "metadata": {
    "id": "PchJ4TwyBcVc"
   },
   "outputs": [
    {
     "name": "stdout",
     "output_type": "stream",
     "text": [
      "행렬 A\n",
      " [[1 2]\n",
      " [3 4]]\n",
      "행렬 B\n",
      " [[10 10]\n",
      " [10 10]]\n",
      "A * B\n",
      " [[10 20]\n",
      " [30 40]]\n"
     ]
    }
   ],
   "source": [
    "A = np.array([[1,2], [3,4]])\n",
    "B = np.array([[10,10], [10,10]])\n",
    "\n",
    "print(\"행렬 A\\n\", A)\n",
    "print(\"행렬 B\\n\", B)\n",
    "print(\"A * B\\n\", A *B)"
   ]
  },
  {
   "cell_type": "markdown",
   "metadata": {
    "id": "_cvFlhuCB5hz"
   },
   "source": [
    "### 행렬 점곱(내적, product)\n",
    "- 1차원 벡터와 마찬가지로 앞 행렬의 열과 뒤 행렬의 행의 수가 같아야함"
   ]
  },
  {
   "cell_type": "code",
   "execution_count": 9,
   "metadata": {
    "id": "452G60yvBcRr"
   },
   "outputs": [
    {
     "name": "stdout",
     "output_type": "stream",
     "text": [
      "행렬 M/n [[1 2]\n",
      " [3 4]]\n",
      "행렬 N/n [[2 3 4]\n",
      " [2 3 4]]\n",
      "행렬 L/n [[ 6  9 12]\n",
      " [14 21 28]]\n",
      "(2, 3)\n",
      "2\n"
     ]
    }
   ],
   "source": [
    "M = np.array([[1,2], [3,4]])\n",
    "N = np.array([[2,3,4], [2,3,4]])\n",
    "\n",
    "print(\"행렬 M/n\", M)\n",
    "print(\"행렬 N/n\", N)\n",
    "L = np.dot(M, N)\n",
    "\n",
    "print(\"행렬 L/n\", L)\n",
    "print(L.shape)\n",
    "print(np.ndim(L))\n",
    "\n"
   ]
  },
  {
   "cell_type": "code",
   "execution_count": 10,
   "metadata": {
    "id": "oSgCXPJzBb0_"
   },
   "outputs": [],
   "source": [
    "# m = np.array([[1], [2], [3]])\n",
    "# n = np.array([[1], [2], [3]])\n",
    "# l = np.dot(m, n)\n",
    "# 앞부분의 열과 뒷부분의 행수가 같아야함 "
   ]
  },
  {
   "cell_type": "markdown",
   "metadata": {
    "id": "gfWlP-BtCAzE"
   },
   "source": [
    "### 역행렬\n",
    "- 어떤 행렬 A가 있을 때, 곱해서 단위행렬(E)를 만드는 행렬 B가 존재한다면, 행렬 B는 A의 역행렬"
   ]
  },
  {
   "cell_type": "code",
   "execution_count": 11,
   "metadata": {
    "id": "0i_L09ggBbwa"
   },
   "outputs": [
    {
     "name": "stdout",
     "output_type": "stream",
     "text": [
      "[[1 2]\n",
      " [3 4]]\n",
      "[[-2.   1. ]\n",
      " [ 1.5 -0.5]]\n",
      "[[1.0000000e+00 0.0000000e+00]\n",
      " [8.8817842e-16 1.0000000e+00]]\n"
     ]
    }
   ],
   "source": [
    "A = np.array([[1, 2], [3,4]])\n",
    "print(A)\n",
    "B = np.linalg.inv(A)\n",
    "print(B)\n",
    "print(np.dot(A, B))"
   ]
  },
  {
   "cell_type": "code",
   "execution_count": 12,
   "metadata": {
    "id": "Ra6130CkBbuz"
   },
   "outputs": [
    {
     "name": "stdout",
     "output_type": "stream",
     "text": [
      "[[ 6.00479950e+15 -9.00719925e+15]\n",
      " [-6.00479950e+15  9.00719925e+15]]\n"
     ]
    }
   ],
   "source": [
    "B = np.array([[3,3], [2, 2]])\n",
    "print(np.linalg.inv(B)) #->error 떠야하는데 모두 0으로 출력됨\n"
   ]
  },
  {
   "cell_type": "markdown",
   "metadata": {
    "id": "G75LpaMmCGtW"
   },
   "source": [
    "### 전치행렬\n",
    "- 행과 열을 바꾼 배열의 형태\n",
    "\n",
    "![](https://upload.wikimedia.org/wikipedia/commons/e/e4/Matrix_transpose.gif)\n",
    "<br /><sub>출처: https://ko.wikipedia.org/wiki/%EC%A0%84%EC%B9%98%ED%96%89%EB%A0%AC</sub>"
   ]
  },
  {
   "cell_type": "code",
   "execution_count": 13,
   "metadata": {
    "id": "3QKPQKIjBbre"
   },
   "outputs": [
    {
     "name": "stdout",
     "output_type": "stream",
     "text": [
      "A\n",
      " [[1 2 3]\n",
      " [4 5 6]]\n",
      "A.shape\n",
      " (2, 3)\n",
      "--------\n",
      "A의 전치행렬\n",
      " [[1 4]\n",
      " [2 5]\n",
      " [3 6]]\n",
      "(A.T).shape\n",
      " (3, 2)\n"
     ]
    }
   ],
   "source": [
    "A = np.array([[1,2,3], [4,5,6]])\n",
    "print(\"A\\n\", A)\n",
    "print(\"A.shape\\n\", A.shape)\n",
    "print('--------')\n",
    "A_= A.T\n",
    "print(\"A의 전치행렬\\n\", A_)\n",
    "print(\"(A.T).shape\\n\", A_.shape)\n"
   ]
  },
  {
   "cell_type": "markdown",
   "metadata": {
    "id": "NubNYgh6CKpY"
   },
   "source": [
    "## 3차원 텐서\n",
    "- 보통 이미지를 나타낼 때 사용되는 텐서\n",
    "  - (width, height, channels)\n",
    "  - 일반적으로 Numpy array로 표현  \n",
    "![3d tensor](https://image.slidesharecdn.com/tensordecomposition-170301235239/95/a-brief-survey-of-tensors-5-638.jpg)\n",
    "<br /><sub>출처: https://www.slideshare.net/BertonEarnshaw/a-brief-survey-of-tensors</sub>\n",
    "- 시계열 데이터 또는 시퀀스(sequence) 데이터를 표현할 때도 사용\n",
    "  - (samples, timesteps, features)\n",
    "  - (예시) 주식 가격 데이터셋, 시간에 따른 질병 발병 건수  \n",
    "![](https://kr.mathworks.com/help/deeplearning/ug/timeseriesforecastingusingdeeplearningexample_01_ko_KR.png)\n",
    "<br /><sub>출처: https://kr.mathworks.com/help/deeplearning/examples/time-series-forecasting-using-deep-learning.html</sub>"
   ]
  },
  {
   "cell_type": "code",
   "execution_count": 14,
   "metadata": {
    "id": "IvVjleI1Bbpn"
   },
   "outputs": [
    {
     "name": "stdout",
     "output_type": "stream",
     "text": [
      "X\n",
      " [[[ 5  3  2  1]\n",
      "  [ 5  5  3  1]\n",
      "  [ 6  1  2  3]]\n",
      "\n",
      " [[ 1  1  1  1]\n",
      "  [ 3  4  7  5]\n",
      "  [ 1  8  3  4]]\n",
      "\n",
      " [[10  9  3  9]\n",
      "  [ 5  4  3  2]\n",
      "  [ 7  6  3  4]]]\n",
      "\n",
      "X.shape (3, 3, 4)\n",
      "X.ndim 3\n"
     ]
    }
   ],
   "source": [
    "X = np.array([[[5,3,2,1],\n",
    "               [5,5,3,1],\n",
    "               [6,1,2,3]],\n",
    "              [[1,1,1,1],\n",
    "               [3,4,7,5],\n",
    "               [1,8,3,4]],\n",
    "              [[10,9,3,9],\n",
    "               [5,4,3,2],\n",
    "               [7,6,3,4]]])\n",
    "\n",
    "print(\"X\\n\",X, end='\\n\\n')\n",
    "print(\"X.shape\", X.shape)\n",
    "print(\"X.ndim\", X.ndim)\n"
   ]
  },
  {
   "cell_type": "code",
   "execution_count": 15,
   "metadata": {
    "id": "CJdUSaqKBbmG"
   },
   "outputs": [
    {
     "name": "stdout",
     "output_type": "stream",
     "text": [
      "행렬 B\n",
      " [[[2 3 4]\n",
      "  [2 3 4]]\n",
      "\n",
      " [[1 1 1]\n",
      "  [1 1 1]]]\n",
      "\n",
      "B의 전치행렬\n",
      " [[[2 1]\n",
      "  [2 1]]\n",
      "\n",
      " [[3 1]\n",
      "  [3 1]]\n",
      "\n",
      " [[4 1]\n",
      "  [4 1]]]\n"
     ]
    }
   ],
   "source": [
    "B = np.array([[[2,3,4],[2,3,4]],\n",
    "              [[1,1,1],[1,1,1]]])\n",
    "print(\"행렬 B\\n\", B, end='\\n\\n')\n",
    "print(\"B의 전치행렬\\n\", B.T)"
   ]
  },
  {
   "cell_type": "markdown",
   "metadata": {
    "id": "OoBfPQdhCPog"
   },
   "source": [
    "### 3차원 텐서 활용 예시(이미지)\n",
    "- MNIST Dataset\n",
    "- 28x28 사이즈의 gray scale 이미지들로 구성  \n",
    "![이미지](https://upload.wikimedia.org/wikipedia/commons/thumb/2/27/MnistExamples.png/440px-MnistExamples.png)  \n",
    "<sub>출처: https://ko.wikipedia.org/wiki/MNIST_%EB%8D%B0%EC%9D%B4%ED%84%B0%EB%B2%A0%EC%9D%B4%EC%8A%A4</sub>\n",
    "\n",
    "  \n",
    "- gray scale: 0~255의 값을 통해 밝기를 표현 \n",
    "  0으로 갈수록 어두워지고, 255로 갈수록 밝아짐 \n",
    "![이미지](https://miro.medium.com/max/1400/1*euc4RxnNo78LFEGrb-QZ7w.jpeg)  \n",
    "<sub>출처: https://medium.com/@himnickson/converting-rgb-image-to-the-grayscale-image-in-java-9e1edc5bd6e7</sub>\n",
    "\n"
   ]
  },
  {
   "cell_type": "code",
   "execution_count": 16,
   "metadata": {
    "id": "YmGkMLmEBbkh"
   },
   "outputs": [
    {
     "name": "stdout",
     "output_type": "stream",
     "text": [
      "Init Plugin\n",
      "Init Graph Optimizer\n",
      "Init Kernel\n"
     ]
    }
   ],
   "source": [
    "from tensorflow.keras.datasets import mnist\n",
    "\n",
    "(train_images, train_labels), (test_images, test_labels) = mnist.load_data()"
   ]
  },
  {
   "cell_type": "code",
   "execution_count": 17,
   "metadata": {
    "id": "7zV5i29eBbgo"
   },
   "outputs": [
    {
     "name": "stdout",
     "output_type": "stream",
     "text": [
      "3\n"
     ]
    }
   ],
   "source": [
    "print(train_images.ndim)"
   ]
  },
  {
   "cell_type": "code",
   "execution_count": 18,
   "metadata": {
    "id": "yWpHOjFyBbfN"
   },
   "outputs": [
    {
     "name": "stdout",
     "output_type": "stream",
     "text": [
      "(60000, 28, 28)\n"
     ]
    }
   ],
   "source": [
    "print(train_images.shape)"
   ]
  },
  {
   "cell_type": "code",
   "execution_count": 19,
   "metadata": {
    "id": "tRwClWKsBbcg"
   },
   "outputs": [
    {
     "name": "stdout",
     "output_type": "stream",
     "text": [
      "uint8\n"
     ]
    }
   ],
   "source": [
    "print(train_images.dtype)"
   ]
  },
  {
   "cell_type": "code",
   "execution_count": 20,
   "metadata": {
    "id": "WlN4f8mmBbZI"
   },
   "outputs": [
    {
     "data": {
      "text/plain": [
       "<matplotlib.image.AxesImage at 0x1646d73a0>"
      ]
     },
     "execution_count": 20,
     "metadata": {},
     "output_type": "execute_result"
    },
    {
     "data": {
      "image/png": "[encoded data removed]",
      "text/plain": [
       "<Figure size 432x288 with 1 Axes>"
      ]
     },
     "metadata": {},
     "output_type": "display_data"
    }
   ],
   "source": [
    "temp_image = train_images[3]\n",
    "plt.imshow(temp_image, cmap='gray')\n"
   ]
  },
  {
   "cell_type": "markdown",
   "metadata": {
    "id": "6zrYXjEoCnZG"
   },
   "source": [
    "## 브로드캐스팅(broadcasting)\n",
    "- 넘파이에서 다른 형상(shape)끼리 계산 가능\n",
    "\n",
    "- 1차원 텐서\n",
    "\n",
    "![1d](https://numpy.org/doc/1.18/_images/theory.broadcast_1.gif)\n",
    "\n",
    "- 2차원 텐서\n",
    "\n",
    "![2d](https://numpy.org/doc/1.18/_images/theory.broadcast_2.gif)\n",
    "\n",
    "- 더 작은 형상(shape)이 형상이 더 큰 배열에 확장 가능해야함\n",
    "\n",
    "![broadcast](https://numpy.org/doc/1.18/_images/theory.broadcast_3.gif) \n",
    "\n",
    "- (참고) 아래의 경우도 가능\n",
    "\n",
    "![broadcast](https://numpy.org/doc/1.18/_images/theory.broadcast_4.gif)\n",
    "\n",
    "<br /><sub>https://numpy.org/doc/1.18/user/theory.broadcasting.html#array-broadcasting-in-numpy</sub>"
   ]
  },
  {
   "cell_type": "code",
   "execution_count": 21,
   "metadata": {
    "id": "CvD1A-YzCnLj"
   },
   "outputs": [
    {
     "name": "stdout",
     "output_type": "stream",
     "text": [
      "[100 200 300]\n",
      "[100 200 300]\n"
     ]
    }
   ],
   "source": [
    "a = np.array(10)\n",
    "b = np.array([10, 20, 30])\n",
    "print(np.dot(a, b))\n",
    "print(a * b)\n",
    "      "
   ]
  },
  {
   "cell_type": "code",
   "execution_count": 22,
   "metadata": {
    "id": "GBqGnivIBbTz"
   },
   "outputs": [
    {
     "name": "stdout",
     "output_type": "stream",
     "text": [
      "행렬 A\n",
      " [[1 2]\n",
      " [3 4]]\n",
      "행렬 B\n",
      " [10 20]\n",
      "A * B\n",
      " [[10 40]\n",
      " [30 80]]\n"
     ]
    }
   ],
   "source": [
    "A = np.array([[1, 2], [3, 4]])\n",
    "B = np.array([10, 20])\n",
    "print(\"행렬 A\\n\", A)\n",
    "print(\"행렬 B\\n\", B)\n",
    "print(\"A * B\\n\", A * B)"
   ]
  },
  {
   "cell_type": "code",
   "execution_count": 23,
   "metadata": {
    "id": "c0CvqipjCq9-"
   },
   "outputs": [
    {
     "name": "stdout",
     "output_type": "stream",
     "text": [
      "행렬 A\n",
      " [[[1 1 1]\n",
      "  [2 2 2]]\n",
      "\n",
      " [[3 3 3]\n",
      "  [4 4 4]]]\n",
      "A.shape\n",
      " (2, 2, 3)\n",
      "행렬 B\n",
      " [[10 10 10]]\n",
      "B.shape\n",
      " (1, 3)\n",
      "A * B\n",
      " [[[10 10 10]\n",
      "  [20 20 20]]\n",
      "\n",
      " [[30 30 30]\n",
      "  [40 40 40]]]\n"
     ]
    }
   ],
   "source": [
    "A = np.array([[[1,1,1],\n",
    "               [2,2,2]],\n",
    "              [[3,3,3],\n",
    "               [4,4,4]]])\n",
    "\n",
    "B = np.array([[10, 10, 10]])\n",
    "\n",
    "print(\"행렬 A\\n\", A)\n",
    "print(\"A.shape\\n\", A.shape)\n",
    "print(\"행렬 B\\n\", B)\n",
    "print(\"B.shape\\n\", B.shape)\n",
    "\n",
    "print(\"A * B\\n\", A * B)\n",
    "              \n",
    "    "
   ]
  },
  {
   "cell_type": "code",
   "execution_count": 24,
   "metadata": {
    "id": "O3dSdUymCsEh"
   },
   "outputs": [],
   "source": [
    "# A = np.array([[1,2,3],[4,5,6]])\n",
    "# B = np.array([10, 10])\n",
    "# print( A * B)"
   ]
  },
  {
   "cell_type": "markdown",
   "metadata": {
    "id": "oMdQuRrbCvHh"
   },
   "source": [
    "## 4, 5차원 텐서\n",
    "- Color Image Datasets(4차원)\n",
    "  - (samples, height, width, channels) ( Keras, Tensorflow )\n",
    "  - (samples, channels, height, width) ( Pytorch )\n",
    "\n",
    "\n",
    "- 동영상(5차원)\n",
    "  1. (samples, frames, height, width, channels)\n",
    "  2. (samples, frames, channels, height, width)\n",
    "  - 예시 1) (4, 300, 1920, 1080, 3) \n",
    "    - 1920x1080 사이즈 3채널의 300프레임 수를 가진 배치가 4개"
   ]
  },
  {
   "cell_type": "markdown",
   "metadata": {
    "id": "owYBNkzMCxaE"
   },
   "source": [
    "## 텐서 크기 변환\n",
    "- reshape로 텐서의 크기 변환 가능\n",
    "- **변환 전의 원소의 개수와 변환 이후의 텐서의 개수가 같아야** 함"
   ]
  },
  {
   "cell_type": "code",
   "execution_count": 25,
   "metadata": {
    "id": "s9NyLg5GCxwF"
   },
   "outputs": [
    {
     "name": "stdout",
     "output_type": "stream",
     "text": [
      "행렬 A\n",
      " [[1 2 3]\n",
      " [4 5 6]]\n",
      "A.shape: (2, 3)\n",
      "--------\n",
      "A.shape: (6,)\n",
      "[1 2 3 4 5 6]\n"
     ]
    }
   ],
   "source": [
    "A = np.array([[1,2,3], [4,5,6]])\n",
    "print(\"행렬 A\\n\", A)\n",
    "print(\"A.shape:\", A.shape)\n",
    "print('--------')\n",
    "\n",
    "A = A.reshape(6)\n",
    "print(\"A.shape:\", A.shape)\n",
    "print(A)"
   ]
  },
  {
   "cell_type": "code",
   "execution_count": 26,
   "metadata": {
    "id": "u1vgBq9fC34Q"
   },
   "outputs": [
    {
     "name": "stdout",
     "output_type": "stream",
     "text": [
      "행렬 B\n",
      " [[[2 3 4]\n",
      "  [2 3 4]]\n",
      "\n",
      " [[1 1 1]\n",
      "  [1 1 1]]]\n",
      "B.shape: (2, 2, 3)\n",
      "---------\n",
      "B.shape: (3, 4)\n",
      "[[2 3 4 2]\n",
      " [3 4 1 1]\n",
      " [1 1 1 1]]\n"
     ]
    }
   ],
   "source": [
    "B = np.array([[[2,3,4], [2,3,4]],\n",
    "              [[1,1,1], [1,1,1]]])\n",
    "print(\"행렬 B\\n\", B)\n",
    "print(\"B.shape:\", B.shape)\n",
    "print(\"---------\")\n",
    "B = B.reshape(3,4)\n",
    "print(\"B.shape:\", B.shape)\n",
    "print(B)\n",
    "      "
   ]
  },
  {
   "cell_type": "markdown",
   "metadata": {
    "id": "CHN5jR7vC8hO"
   },
   "source": [
    "- -1 을 통해 자동으로 형상을 지정 가능  \n",
    "  원소의 갯수에 맞게 넘파이가 자동으로 형상을 지정  \n",
    "      (2, 2, 3) -> (3, -1)     (O)\n",
    "                -> (2, 1, 6)   (O)\n",
    "                -> (2, -1, -1) (X)\n",
    "                -> (2, 5, -1)  (X) "
   ]
  },
  {
   "cell_type": "code",
   "execution_count": 27,
   "metadata": {
    "id": "gYLuemhdC5KG"
   },
   "outputs": [
    {
     "name": "stdout",
     "output_type": "stream",
     "text": [
      "행렬 B\n",
      " [[[2 3 4]\n",
      "  [2 3 4]]\n",
      "\n",
      " [[1 1 1]\n",
      "  [1 1 1]]]\n",
      "B.shape: (2, 2, 3)\n",
      "---------\n",
      "B.shape: (3, 4)\n",
      "[[2 3 4 2]\n",
      " [3 4 1 1]\n",
      " [1 1 1 1]]\n"
     ]
    }
   ],
   "source": [
    "B = np.array([[[2,3,4], [2,3,4]],\n",
    "              [[1,1,1], [1,1,1]]])\n",
    "print(\"행렬 B\\n\", B)\n",
    "print(\"B.shape:\", B.shape)\n",
    "print(\"---------\")\n",
    "B = B.reshape(3,-1)\n",
    "print(\"B.shape:\", B.shape)\n",
    "print(B)\n",
    "      "
   ]
  }
 ],
 "metadata": {
  "colab": {
   "collapsed_sections": [],
   "name": "Copy of _3 신경망 데이터 표현",
   "provenance": [
    {
     "file_id": "1ZM-bVqUpOuauK6KBStMGaDv94iuqox45",
     "timestamp": 1628856649450
    }
   ]
  },
  "kernelspec": {
   "display_name": "Python 3 (ipykernel)",
   "language": "python",
   "name": "python3"
  },
  "language_info": {
   "codemirror_mode": {
    "name": "ipython",
    "version": 3
   },
   "file_extension": ".py",
   "mimetype": "text/x-python",
   "name": "python",
   "nbconvert_exporter": "python",
   "pygments_lexer": "ipython3",
   "version": "3.9.7"
  }
 },
 "nbformat": 4,
 "nbformat_minor": 4
}
